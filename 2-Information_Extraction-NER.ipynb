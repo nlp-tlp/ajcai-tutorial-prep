{
 "cells": [
  {
   "cell_type": "markdown",
   "metadata": {
    "slideshow": {
     "slide_type": "slide"
    }
   },
   "source": [
    "<center>\n",
    "    <h1> Information Extraction</h1>\n",
    "    <h2> Named Entity Recognition</h2>\n",
    "    <h6>AJCAI22: A Practical Guide to Knowledge Graph Construction from Technical Short Text</h6>\n",
    "    <h6> 5th December 2022 </h6>\n",
    "</center>"
   ]
  },
  {
   "cell_type": "code",
   "execution_count": null,
   "metadata": {
    "slideshow": {
     "slide_type": "slide"
    }
   },
   "outputs": [],
   "source": []
  }
 ],
 "metadata": {
  "celltoolbar": "Slideshow",
  "kernelspec": {
   "display_name": "Python 3.8.10 ('venv': venv)",
   "language": "python",
   "name": "python3"
  },
  "language_info": {
   "codemirror_mode": {
    "name": "ipython",
    "version": 3
   },
   "file_extension": ".py",
   "mimetype": "text/x-python",
   "name": "python",
   "nbconvert_exporter": "python",
   "pygments_lexer": "ipython3",
   "version": "3.8.10"
  },
  "vscode": {
   "interpreter": {
    "hash": "c0f82b55b3599246f50b09544c4177cebe3269118e407258f8371022dcb22032"
   }
  }
 },
 "nbformat": 4,
 "nbformat_minor": 2
}
